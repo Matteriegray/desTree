{
  "metadata": {
    "kernelspec": {
      "language": "python",
      "display_name": "Python 3",
      "name": "python3"
    },
    "language_info": {
      "name": "python",
      "version": "3.10.14",
      "mimetype": "text/x-python",
      "codemirror_mode": {
        "name": "ipython",
        "version": 3
      },
      "pygments_lexer": "ipython3",
      "nbconvert_exporter": "python",
      "file_extension": ".py"
    },
    "kaggle": {
      "accelerator": "none",
      "dataSources": [
        {
          "sourceId": 9730456,
          "sourceType": "datasetVersion",
          "datasetId": 5954632
        }
      ],
      "dockerImageVersionId": 30786,
      "isInternetEnabled": false,
      "language": "python",
      "sourceType": "notebook",
      "isGpuEnabled": false
    },
    "colab": {
      "name": "desTree",
      "provenance": [],
      "include_colab_link": true
    }
  },
  "nbformat_minor": 0,
  "nbformat": 4,
  "cells": [
    {
      "cell_type": "markdown",
      "metadata": {
        "id": "view-in-github",
        "colab_type": "text"
      },
      "source": [
        "<a href=\"https://colab.research.google.com/github/Matteriegray/desTree/blob/main/desTree.ipynb\" target=\"_parent\"><img src=\"https://colab.research.google.com/assets/colab-badge.svg\" alt=\"Open In Colab\"/></a>"
      ]
    },
    {
      "source": [
        "# IMPORTANT: SOME KAGGLE DATA SOURCES ARE PRIVATE\n",
        "# RUN THIS CELL IN ORDER TO IMPORT YOUR KAGGLE DATA SOURCES.\n",
        "import kagglehub\n",
        "kagglehub.login()\n"
      ],
      "metadata": {
        "id": "7KevsBCEPhuS"
      },
      "cell_type": "code",
      "outputs": [],
      "execution_count": null
    },
    {
      "source": [
        "# IMPORTANT: RUN THIS CELL IN ORDER TO IMPORT YOUR KAGGLE DATA SOURCES,\n",
        "# THEN FEEL FREE TO DELETE THIS CELL.\n",
        "# NOTE: THIS NOTEBOOK ENVIRONMENT DIFFERS FROM KAGGLE'S PYTHON\n",
        "# ENVIRONMENT SO THERE MAY BE MISSING LIBRARIES USED BY YOUR\n",
        "# NOTEBOOK.\n",
        "\n",
        "matteriegray_titanic_path = kagglehub.dataset_download('matteriegray/titanic')\n",
        "\n",
        "print('Data source import complete.')\n"
      ],
      "metadata": {
        "id": "lI4OauCgPhuh"
      },
      "cell_type": "code",
      "outputs": [],
      "execution_count": null
    },
    {
      "cell_type": "code",
      "source": [
        "import pandas as pd\n",
        "import numpy as np\n",
        "import matplotlib as plt\n",
        "df = pd.read_csv('/kaggle/input/titanic/titanic.csv')\n",
        "df.head()"
      ],
      "metadata": {
        "_uuid": "8f2839f25d086af736a60e9eeb907d3b93b6e0e5",
        "_cell_guid": "b1076dfc-b9ad-4769-8c92-a6c4dae69d19",
        "execution": {
          "iopub.status.busy": "2024-10-26T20:56:10.718694Z",
          "iopub.execute_input": "2024-10-26T20:56:10.71916Z",
          "iopub.status.idle": "2024-10-26T20:56:10.755379Z",
          "shell.execute_reply.started": "2024-10-26T20:56:10.719113Z",
          "shell.execute_reply": "2024-10-26T20:56:10.75403Z"
        },
        "trusted": true,
        "id": "DkGFgA-GPhun",
        "outputId": "b0072743-a5a4-4d62-d9bd-2285c66db375"
      },
      "execution_count": null,
      "outputs": [
        {
          "execution_count": 61,
          "output_type": "execute_result",
          "data": {
            "text/plain": "   PassengerId  Survived  Pclass  \\\n0            1         0       3   \n1            2         1       1   \n2            3         1       3   \n3            4         1       1   \n4            5         0       3   \n\n                                                Name     Sex   Age  SibSp  \\\n0                            Braund, Mr. Owen Harris    male  22.0      1   \n1  Cumings, Mrs. John Bradley (Florence Briggs Th...  female  38.0      1   \n2                             Heikkinen, Miss. Laina  female  26.0      0   \n3       Futrelle, Mrs. Jacques Heath (Lily May Peel)  female  35.0      1   \n4                           Allen, Mr. William Henry    male  35.0      0   \n\n   Parch            Ticket     Fare Cabin Embarked  \n0      0         A/5 21171   7.2500   NaN        S  \n1      0          PC 17599  71.2833   C85        C  \n2      0  STON/O2. 3101282   7.9250   NaN        S  \n3      0            113803  53.1000  C123        S  \n4      0            373450   8.0500   NaN        S  ",
            "text/html": "<div>\n<style scoped>\n    .dataframe tbody tr th:only-of-type {\n        vertical-align: middle;\n    }\n\n    .dataframe tbody tr th {\n        vertical-align: top;\n    }\n\n    .dataframe thead th {\n        text-align: right;\n    }\n</style>\n<table border=\"1\" class=\"dataframe\">\n  <thead>\n    <tr style=\"text-align: right;\">\n      <th></th>\n      <th>PassengerId</th>\n      <th>Survived</th>\n      <th>Pclass</th>\n      <th>Name</th>\n      <th>Sex</th>\n      <th>Age</th>\n      <th>SibSp</th>\n      <th>Parch</th>\n      <th>Ticket</th>\n      <th>Fare</th>\n      <th>Cabin</th>\n      <th>Embarked</th>\n    </tr>\n  </thead>\n  <tbody>\n    <tr>\n      <th>0</th>\n      <td>1</td>\n      <td>0</td>\n      <td>3</td>\n      <td>Braund, Mr. Owen Harris</td>\n      <td>male</td>\n      <td>22.0</td>\n      <td>1</td>\n      <td>0</td>\n      <td>A/5 21171</td>\n      <td>7.2500</td>\n      <td>NaN</td>\n      <td>S</td>\n    </tr>\n    <tr>\n      <th>1</th>\n      <td>2</td>\n      <td>1</td>\n      <td>1</td>\n      <td>Cumings, Mrs. John Bradley (Florence Briggs Th...</td>\n      <td>female</td>\n      <td>38.0</td>\n      <td>1</td>\n      <td>0</td>\n      <td>PC 17599</td>\n      <td>71.2833</td>\n      <td>C85</td>\n      <td>C</td>\n    </tr>\n    <tr>\n      <th>2</th>\n      <td>3</td>\n      <td>1</td>\n      <td>3</td>\n      <td>Heikkinen, Miss. Laina</td>\n      <td>female</td>\n      <td>26.0</td>\n      <td>0</td>\n      <td>0</td>\n      <td>STON/O2. 3101282</td>\n      <td>7.9250</td>\n      <td>NaN</td>\n      <td>S</td>\n    </tr>\n    <tr>\n      <th>3</th>\n      <td>4</td>\n      <td>1</td>\n      <td>1</td>\n      <td>Futrelle, Mrs. Jacques Heath (Lily May Peel)</td>\n      <td>female</td>\n      <td>35.0</td>\n      <td>1</td>\n      <td>0</td>\n      <td>113803</td>\n      <td>53.1000</td>\n      <td>C123</td>\n      <td>S</td>\n    </tr>\n    <tr>\n      <th>4</th>\n      <td>5</td>\n      <td>0</td>\n      <td>3</td>\n      <td>Allen, Mr. William Henry</td>\n      <td>male</td>\n      <td>35.0</td>\n      <td>0</td>\n      <td>0</td>\n      <td>373450</td>\n      <td>8.0500</td>\n      <td>NaN</td>\n      <td>S</td>\n    </tr>\n  </tbody>\n</table>\n</div>"
          },
          "metadata": {}
        }
      ]
    },
    {
      "cell_type": "code",
      "source": [
        "x = df.drop('Age',axis = 'columns')\n",
        "y = df['Age']"
      ],
      "metadata": {
        "execution": {
          "iopub.status.busy": "2024-10-26T20:44:59.992394Z",
          "iopub.execute_input": "2024-10-26T20:44:59.992826Z",
          "iopub.status.idle": "2024-10-26T20:45:00.000947Z",
          "shell.execute_reply.started": "2024-10-26T20:44:59.99278Z",
          "shell.execute_reply": "2024-10-26T20:44:59.998837Z"
        },
        "trusted": true,
        "id": "c6_h_wWsPhut"
      },
      "execution_count": null,
      "outputs": []
    },
    {
      "cell_type": "code",
      "source": [
        "from sklearn.preprocessing import LabelEncoder"
      ],
      "metadata": {
        "execution": {
          "iopub.status.busy": "2024-10-26T20:45:00.002414Z",
          "iopub.execute_input": "2024-10-26T20:45:00.002834Z",
          "iopub.status.idle": "2024-10-26T20:45:00.015743Z",
          "shell.execute_reply.started": "2024-10-26T20:45:00.002784Z",
          "shell.execute_reply": "2024-10-26T20:45:00.013847Z"
        },
        "trusted": true,
        "id": "02zFj_ZBPhuz"
      },
      "execution_count": null,
      "outputs": []
    },
    {
      "cell_type": "code",
      "source": [
        "le_Name = LabelEncoder()\n",
        "le_Sex = LabelEncoder()\n",
        "le_Ticket = LabelEncoder()\n",
        "le_Cabin = LabelEncoder()\n",
        "le_Emb = LabelEncoder()"
      ],
      "metadata": {
        "execution": {
          "iopub.status.busy": "2024-10-26T20:45:00.017857Z",
          "iopub.execute_input": "2024-10-26T20:45:00.01835Z",
          "iopub.status.idle": "2024-10-26T20:45:00.034096Z",
          "shell.execute_reply.started": "2024-10-26T20:45:00.018298Z",
          "shell.execute_reply": "2024-10-26T20:45:00.032532Z"
        },
        "trusted": true,
        "id": "ySs806tYPhu0"
      },
      "execution_count": null,
      "outputs": []
    },
    {
      "cell_type": "code",
      "source": [
        "x['Name_n'] = le_Name.fit_transform(x['Name'])\n",
        "x['Sex_n'] = le_Sex.fit_transform(x['Sex'])\n",
        "x['Cabin_n'] = le_Cabin.fit_transform(x['Cabin'])\n",
        "x['Ticket_n'] = le_Ticket.fit_transform(x['Ticket'])\n",
        "x['Emb'] = le_Emb.fit_transform(x['Embarked'])\n",
        "print(x)"
      ],
      "metadata": {
        "execution": {
          "iopub.status.busy": "2024-10-26T20:45:00.038165Z",
          "iopub.execute_input": "2024-10-26T20:45:00.039381Z",
          "iopub.status.idle": "2024-10-26T20:45:00.066597Z",
          "shell.execute_reply.started": "2024-10-26T20:45:00.039303Z",
          "shell.execute_reply": "2024-10-26T20:45:00.065178Z"
        },
        "trusted": true,
        "id": "ymnomUONPhu4",
        "outputId": "bbbbdce8-ffb4-41bd-f697-75c966f5782f"
      },
      "execution_count": null,
      "outputs": [
        {
          "name": "stdout",
          "text": "     PassengerId  Survived  Pclass  \\\n0              1         0       3   \n1              2         1       1   \n2              3         1       3   \n3              4         1       1   \n4              5         0       3   \n..           ...       ...     ...   \n886          887         0       2   \n887          888         1       1   \n888          889         0       3   \n889          890         1       1   \n890          891         0       3   \n\n                                                  Name     Sex  SibSp  Parch  \\\n0                              Braund, Mr. Owen Harris    male      1      0   \n1    Cumings, Mrs. John Bradley (Florence Briggs Th...  female      1      0   \n2                               Heikkinen, Miss. Laina  female      0      0   \n3         Futrelle, Mrs. Jacques Heath (Lily May Peel)  female      1      0   \n4                             Allen, Mr. William Henry    male      0      0   \n..                                                 ...     ...    ...    ...   \n886                              Montvila, Rev. Juozas    male      0      0   \n887                       Graham, Miss. Margaret Edith  female      0      0   \n888           Johnston, Miss. Catherine Helen \"Carrie\"  female      1      2   \n889                              Behr, Mr. Karl Howell    male      0      0   \n890                                Dooley, Mr. Patrick    male      0      0   \n\n               Ticket     Fare Cabin Embarked  Name_n  Sex_n  Cabin_n  \\\n0           A/5 21171   7.2500   NaN        S     108      1      147   \n1            PC 17599  71.2833   C85        C     190      0       81   \n2    STON/O2. 3101282   7.9250   NaN        S     353      0      147   \n3              113803  53.1000  C123        S     272      0       55   \n4              373450   8.0500   NaN        S      15      1      147   \n..                ...      ...   ...      ...     ...    ...      ...   \n886            211536  13.0000   NaN        S     548      1      147   \n887            112053  30.0000   B42        S     303      0       30   \n888        W./C. 6607  23.4500   NaN        S     413      0      147   \n889            111369  30.0000  C148        C      81      1       60   \n890            370376   7.7500   NaN        Q     220      1      147   \n\n     Ticket_n  Emb  \n0         523    2  \n1         596    0  \n2         669    2  \n3          49    2  \n4         472    2  \n..        ...  ...  \n886       101    2  \n887        14    2  \n888       675    2  \n889         8    0  \n890       466    1  \n\n[891 rows x 16 columns]\n",
          "output_type": "stream"
        }
      ]
    },
    {
      "cell_type": "code",
      "source": [
        "X = x.drop(['Name','Ticket','Cabin','Sex','Embarked'], axis = 'columns')\n",
        "print(X)"
      ],
      "metadata": {
        "execution": {
          "iopub.status.busy": "2024-10-26T20:45:00.068445Z",
          "iopub.execute_input": "2024-10-26T20:45:00.069041Z",
          "iopub.status.idle": "2024-10-26T20:45:00.087956Z",
          "shell.execute_reply.started": "2024-10-26T20:45:00.068958Z",
          "shell.execute_reply": "2024-10-26T20:45:00.086413Z"
        },
        "trusted": true,
        "id": "0fVfsBWzPhu8",
        "outputId": "870834e4-9f25-4722-861c-75d4d18342ec"
      },
      "execution_count": null,
      "outputs": [
        {
          "name": "stdout",
          "text": "     PassengerId  Survived  Pclass  SibSp  Parch     Fare  Name_n  Sex_n  \\\n0              1         0       3      1      0   7.2500     108      1   \n1              2         1       1      1      0  71.2833     190      0   \n2              3         1       3      0      0   7.9250     353      0   \n3              4         1       1      1      0  53.1000     272      0   \n4              5         0       3      0      0   8.0500      15      1   \n..           ...       ...     ...    ...    ...      ...     ...    ...   \n886          887         0       2      0      0  13.0000     548      1   \n887          888         1       1      0      0  30.0000     303      0   \n888          889         0       3      1      2  23.4500     413      0   \n889          890         1       1      0      0  30.0000      81      1   \n890          891         0       3      0      0   7.7500     220      1   \n\n     Cabin_n  Ticket_n  Emb  \n0        147       523    2  \n1         81       596    0  \n2        147       669    2  \n3         55        49    2  \n4        147       472    2  \n..       ...       ...  ...  \n886      147       101    2  \n887       30        14    2  \n888      147       675    2  \n889       60         8    0  \n890      147       466    1  \n\n[891 rows x 11 columns]\n",
          "output_type": "stream"
        }
      ]
    },
    {
      "cell_type": "code",
      "source": [
        "from sklearn import tree\n",
        "model = tree.DecisionTreeRegressor()"
      ],
      "metadata": {
        "execution": {
          "iopub.status.busy": "2024-10-26T20:46:00.509138Z",
          "iopub.execute_input": "2024-10-26T20:46:00.509649Z",
          "iopub.status.idle": "2024-10-26T20:46:00.515883Z",
          "shell.execute_reply.started": "2024-10-26T20:46:00.509601Z",
          "shell.execute_reply": "2024-10-26T20:46:00.514464Z"
        },
        "trusted": true,
        "id": "DU351BqWPhvD"
      },
      "execution_count": null,
      "outputs": []
    },
    {
      "cell_type": "code",
      "source": [
        "# Drop rows where either X or y has missing values to ensure they are aligned\n",
        "X_y_aligned = pd.concat([X, y], axis=1).dropna()\n",
        "X = X_y_aligned.drop(columns=y.name)  # Drop y column from X\n",
        "y = X_y_aligned[y.name]  # Extract y column\n",
        "\n",
        "# Check shapes to confirm they match\n",
        "print(\"Shape of X:\", X.shape)\n",
        "print(\"Shape of y:\", y.shape)\n",
        "\n"
      ],
      "metadata": {
        "execution": {
          "iopub.status.busy": "2024-10-26T20:48:53.349692Z",
          "iopub.execute_input": "2024-10-26T20:48:53.350205Z",
          "iopub.status.idle": "2024-10-26T20:48:53.371069Z",
          "shell.execute_reply.started": "2024-10-26T20:48:53.350158Z",
          "shell.execute_reply": "2024-10-26T20:48:53.369478Z"
        },
        "trusted": true,
        "id": "VkwGtOh_PhvG",
        "outputId": "cf6e0fc9-d142-441f-f0e1-4440fd2ff282"
      },
      "execution_count": null,
      "outputs": [
        {
          "name": "stdout",
          "text": "Shape of X: (714, 11)\nShape of y: (714,)\n",
          "output_type": "stream"
        }
      ]
    },
    {
      "cell_type": "code",
      "source": [
        "model.fit(X,y)"
      ],
      "metadata": {
        "execution": {
          "iopub.status.busy": "2024-10-26T20:48:59.554111Z",
          "iopub.execute_input": "2024-10-26T20:48:59.554598Z",
          "iopub.status.idle": "2024-10-26T20:48:59.582048Z",
          "shell.execute_reply.started": "2024-10-26T20:48:59.554551Z",
          "shell.execute_reply": "2024-10-26T20:48:59.580522Z"
        },
        "trusted": true,
        "id": "8gtwW9HePhvJ",
        "outputId": "d298a5ff-4c50-436d-b682-0462c97543f0"
      },
      "execution_count": null,
      "outputs": [
        {
          "execution_count": 58,
          "output_type": "execute_result",
          "data": {
            "text/plain": "DecisionTreeRegressor()",
            "text/html": "<style>#sk-container-id-1 {color: black;background-color: white;}#sk-container-id-1 pre{padding: 0;}#sk-container-id-1 div.sk-toggleable {background-color: white;}#sk-container-id-1 label.sk-toggleable__label {cursor: pointer;display: block;width: 100%;margin-bottom: 0;padding: 0.3em;box-sizing: border-box;text-align: center;}#sk-container-id-1 label.sk-toggleable__label-arrow:before {content: \"▸\";float: left;margin-right: 0.25em;color: #696969;}#sk-container-id-1 label.sk-toggleable__label-arrow:hover:before {color: black;}#sk-container-id-1 div.sk-estimator:hover label.sk-toggleable__label-arrow:before {color: black;}#sk-container-id-1 div.sk-toggleable__content {max-height: 0;max-width: 0;overflow: hidden;text-align: left;background-color: #f0f8ff;}#sk-container-id-1 div.sk-toggleable__content pre {margin: 0.2em;color: black;border-radius: 0.25em;background-color: #f0f8ff;}#sk-container-id-1 input.sk-toggleable__control:checked~div.sk-toggleable__content {max-height: 200px;max-width: 100%;overflow: auto;}#sk-container-id-1 input.sk-toggleable__control:checked~label.sk-toggleable__label-arrow:before {content: \"▾\";}#sk-container-id-1 div.sk-estimator input.sk-toggleable__control:checked~label.sk-toggleable__label {background-color: #d4ebff;}#sk-container-id-1 div.sk-label input.sk-toggleable__control:checked~label.sk-toggleable__label {background-color: #d4ebff;}#sk-container-id-1 input.sk-hidden--visually {border: 0;clip: rect(1px 1px 1px 1px);clip: rect(1px, 1px, 1px, 1px);height: 1px;margin: -1px;overflow: hidden;padding: 0;position: absolute;width: 1px;}#sk-container-id-1 div.sk-estimator {font-family: monospace;background-color: #f0f8ff;border: 1px dotted black;border-radius: 0.25em;box-sizing: border-box;margin-bottom: 0.5em;}#sk-container-id-1 div.sk-estimator:hover {background-color: #d4ebff;}#sk-container-id-1 div.sk-parallel-item::after {content: \"\";width: 100%;border-bottom: 1px solid gray;flex-grow: 1;}#sk-container-id-1 div.sk-label:hover label.sk-toggleable__label {background-color: #d4ebff;}#sk-container-id-1 div.sk-serial::before {content: \"\";position: absolute;border-left: 1px solid gray;box-sizing: border-box;top: 0;bottom: 0;left: 50%;z-index: 0;}#sk-container-id-1 div.sk-serial {display: flex;flex-direction: column;align-items: center;background-color: white;padding-right: 0.2em;padding-left: 0.2em;position: relative;}#sk-container-id-1 div.sk-item {position: relative;z-index: 1;}#sk-container-id-1 div.sk-parallel {display: flex;align-items: stretch;justify-content: center;background-color: white;position: relative;}#sk-container-id-1 div.sk-item::before, #sk-container-id-1 div.sk-parallel-item::before {content: \"\";position: absolute;border-left: 1px solid gray;box-sizing: border-box;top: 0;bottom: 0;left: 50%;z-index: -1;}#sk-container-id-1 div.sk-parallel-item {display: flex;flex-direction: column;z-index: 1;position: relative;background-color: white;}#sk-container-id-1 div.sk-parallel-item:first-child::after {align-self: flex-end;width: 50%;}#sk-container-id-1 div.sk-parallel-item:last-child::after {align-self: flex-start;width: 50%;}#sk-container-id-1 div.sk-parallel-item:only-child::after {width: 0;}#sk-container-id-1 div.sk-dashed-wrapped {border: 1px dashed gray;margin: 0 0.4em 0.5em 0.4em;box-sizing: border-box;padding-bottom: 0.4em;background-color: white;}#sk-container-id-1 div.sk-label label {font-family: monospace;font-weight: bold;display: inline-block;line-height: 1.2em;}#sk-container-id-1 div.sk-label-container {text-align: center;}#sk-container-id-1 div.sk-container {/* jupyter's `normalize.less` sets `[hidden] { display: none; }` but bootstrap.min.css set `[hidden] { display: none !important; }` so we also need the `!important` here to be able to override the default hidden behavior on the sphinx rendered scikit-learn.org. See: https://github.com/scikit-learn/scikit-learn/issues/21755 */display: inline-block !important;position: relative;}#sk-container-id-1 div.sk-text-repr-fallback {display: none;}</style><div id=\"sk-container-id-1\" class=\"sk-top-container\"><div class=\"sk-text-repr-fallback\"><pre>DecisionTreeRegressor()</pre><b>In a Jupyter environment, please rerun this cell to show the HTML representation or trust the notebook. <br />On GitHub, the HTML representation is unable to render, please try loading this page with nbviewer.org.</b></div><div class=\"sk-container\" hidden><div class=\"sk-item\"><div class=\"sk-estimator sk-toggleable\"><input class=\"sk-toggleable__control sk-hidden--visually\" id=\"sk-estimator-id-1\" type=\"checkbox\" checked><label for=\"sk-estimator-id-1\" class=\"sk-toggleable__label sk-toggleable__label-arrow\">DecisionTreeRegressor</label><div class=\"sk-toggleable__content\"><pre>DecisionTreeRegressor()</pre></div></div></div></div></div>"
          },
          "metadata": {}
        }
      ]
    },
    {
      "cell_type": "code",
      "source": [
        "model.score(X,y)"
      ],
      "metadata": {
        "execution": {
          "iopub.status.busy": "2024-10-26T20:58:01.914524Z",
          "iopub.execute_input": "2024-10-26T20:58:01.915269Z",
          "iopub.status.idle": "2024-10-26T20:58:01.928371Z",
          "shell.execute_reply.started": "2024-10-26T20:58:01.915219Z",
          "shell.execute_reply": "2024-10-26T20:58:01.92709Z"
        },
        "trusted": true,
        "id": "goLmTMAFPhvR",
        "outputId": "67383f0c-ecaa-4cb6-95df-925fe2066d99"
      },
      "execution_count": null,
      "outputs": [
        {
          "execution_count": 63,
          "output_type": "execute_result",
          "data": {
            "text/plain": "1.0"
          },
          "metadata": {}
        }
      ]
    }
  ]
}